{
 "cells": [
  {
   "cell_type": "code",
   "execution_count": 5,
   "id": "d1cdf659",
   "metadata": {
    "scrolled": false
   },
   "outputs": [
    {
     "ename": "NoSuchElementException",
     "evalue": "Message: no such element: Unable to locate element: {\"method\":\"xpath\",\"selector\":\"/html/body/div[3]/div[1]/div/ul/li[3]/a/div[2]\"}\n  (Session info: chrome=108.0.5359.125)\nStacktrace:\nBacktrace:\n\t(No symbol) [0x0041F243]\n\t(No symbol) [0x003A7FD1]\n\t(No symbol) [0x0029D04D]\n\t(No symbol) [0x002CC0B0]\n\t(No symbol) [0x002CC22B]\n\t(No symbol) [0x002FE612]\n\t(No symbol) [0x002E85D4]\n\t(No symbol) [0x002FC9EB]\n\t(No symbol) [0x002E8386]\n\t(No symbol) [0x002C163C]\n\t(No symbol) [0x002C269D]\n\tGetHandleVerifier [0x006B9A22+2655074]\n\tGetHandleVerifier [0x006ACA24+2601828]\n\tGetHandleVerifier [0x004C8C0A+619850]\n\tGetHandleVerifier [0x004C7830+614768]\n\t(No symbol) [0x003B05FC]\n\t(No symbol) [0x003B5968]\n\t(No symbol) [0x003B5A55]\n\t(No symbol) [0x003C051B]\n\tBaseThreadInitThunk [0x762C6BD9+25]\n\tRtlGetFullPathName_UEx [0x76F58FD2+1218]\n\tRtlGetFullPathName_UEx [0x76F58F9D+1165]\n",
     "output_type": "error",
     "traceback": [
      "\u001b[1;31m---------------------------------------------------------------------------\u001b[0m",
      "\u001b[1;31mNoSuchElementException\u001b[0m                    Traceback (most recent call last)",
      "\u001b[1;32mC:\\Temp\\ipykernel_6264\\4218161510.py\u001b[0m in \u001b[0;36m<module>\u001b[1;34m\u001b[0m\n\u001b[0;32m     27\u001b[0m \u001b[0mtime\u001b[0m\u001b[1;33m.\u001b[0m\u001b[0msleep\u001b[0m\u001b[1;33m(\u001b[0m\u001b[1;36m1\u001b[0m\u001b[1;33m)\u001b[0m\u001b[1;33m\u001b[0m\u001b[1;33m\u001b[0m\u001b[0m\n\u001b[0;32m     28\u001b[0m \u001b[1;33m\u001b[0m\u001b[0m\n\u001b[1;32m---> 29\u001b[1;33m \u001b[0mnavegador\u001b[0m\u001b[1;33m.\u001b[0m\u001b[0mfind_element\u001b[0m\u001b[1;33m(\u001b[0m\u001b[1;34m'xpath'\u001b[0m\u001b[1;33m,\u001b[0m \u001b[1;34m'/html/body/div[3]/div[1]/div/ul/li[3]/a/div[2]'\u001b[0m\u001b[1;33m)\u001b[0m\u001b[1;33m.\u001b[0m\u001b[0mclick\u001b[0m\u001b[1;33m(\u001b[0m\u001b[1;33m)\u001b[0m \u001b[1;31m# Acessa wifi\u001b[0m\u001b[1;33m\u001b[0m\u001b[1;33m\u001b[0m\u001b[0m\n\u001b[0m\u001b[0;32m     30\u001b[0m \u001b[0mtime\u001b[0m\u001b[1;33m.\u001b[0m\u001b[0msleep\u001b[0m\u001b[1;33m(\u001b[0m\u001b[1;36m1\u001b[0m\u001b[1;33m)\u001b[0m\u001b[1;33m\u001b[0m\u001b[1;33m\u001b[0m\u001b[0m\n\u001b[0;32m     31\u001b[0m \u001b[0mnavegador\u001b[0m\u001b[1;33m.\u001b[0m\u001b[0mfind_element\u001b[0m\u001b[1;33m(\u001b[0m\u001b[1;34m'xpath'\u001b[0m\u001b[1;33m,\u001b[0m \u001b[1;34m'//*[@id=\"htmode_2G\"]'\u001b[0m\u001b[1;33m)\u001b[0m\u001b[1;33m.\u001b[0m\u001b[0mclick\u001b[0m\u001b[1;33m(\u001b[0m\u001b[1;33m)\u001b[0m\u001b[1;33m\u001b[0m\u001b[1;33m\u001b[0m\u001b[0m\n",
      "\u001b[1;32m~\\anaconda3\\lib\\site-packages\\selenium\\webdriver\\remote\\webdriver.py\u001b[0m in \u001b[0;36mfind_element\u001b[1;34m(self, by, value)\u001b[0m\n\u001b[0;32m    859\u001b[0m             \u001b[0mvalue\u001b[0m \u001b[1;33m=\u001b[0m \u001b[1;34m'[name=\"%s\"]'\u001b[0m \u001b[1;33m%\u001b[0m \u001b[0mvalue\u001b[0m\u001b[1;33m\u001b[0m\u001b[1;33m\u001b[0m\u001b[0m\n\u001b[0;32m    860\u001b[0m \u001b[1;33m\u001b[0m\u001b[0m\n\u001b[1;32m--> 861\u001b[1;33m         \u001b[1;32mreturn\u001b[0m \u001b[0mself\u001b[0m\u001b[1;33m.\u001b[0m\u001b[0mexecute\u001b[0m\u001b[1;33m(\u001b[0m\u001b[0mCommand\u001b[0m\u001b[1;33m.\u001b[0m\u001b[0mFIND_ELEMENT\u001b[0m\u001b[1;33m,\u001b[0m \u001b[1;33m{\u001b[0m\u001b[1;34m\"using\"\u001b[0m\u001b[1;33m:\u001b[0m \u001b[0mby\u001b[0m\u001b[1;33m,\u001b[0m \u001b[1;34m\"value\"\u001b[0m\u001b[1;33m:\u001b[0m \u001b[0mvalue\u001b[0m\u001b[1;33m}\u001b[0m\u001b[1;33m)\u001b[0m\u001b[1;33m[\u001b[0m\u001b[1;34m\"value\"\u001b[0m\u001b[1;33m]\u001b[0m\u001b[1;33m\u001b[0m\u001b[1;33m\u001b[0m\u001b[0m\n\u001b[0m\u001b[0;32m    862\u001b[0m \u001b[1;33m\u001b[0m\u001b[0m\n\u001b[0;32m    863\u001b[0m     \u001b[1;32mdef\u001b[0m \u001b[0mfind_elements\u001b[0m\u001b[1;33m(\u001b[0m\u001b[0mself\u001b[0m\u001b[1;33m,\u001b[0m \u001b[0mby\u001b[0m\u001b[1;33m=\u001b[0m\u001b[0mBy\u001b[0m\u001b[1;33m.\u001b[0m\u001b[0mID\u001b[0m\u001b[1;33m,\u001b[0m \u001b[0mvalue\u001b[0m\u001b[1;33m:\u001b[0m \u001b[0mOptional\u001b[0m\u001b[1;33m[\u001b[0m\u001b[0mstr\u001b[0m\u001b[1;33m]\u001b[0m \u001b[1;33m=\u001b[0m \u001b[1;32mNone\u001b[0m\u001b[1;33m)\u001b[0m \u001b[1;33m->\u001b[0m \u001b[0mList\u001b[0m\u001b[1;33m[\u001b[0m\u001b[0mWebElement\u001b[0m\u001b[1;33m]\u001b[0m\u001b[1;33m:\u001b[0m\u001b[1;33m\u001b[0m\u001b[1;33m\u001b[0m\u001b[0m\n",
      "\u001b[1;32m~\\anaconda3\\lib\\site-packages\\selenium\\webdriver\\remote\\webdriver.py\u001b[0m in \u001b[0;36mexecute\u001b[1;34m(self, driver_command, params)\u001b[0m\n\u001b[0;32m    442\u001b[0m         \u001b[0mresponse\u001b[0m \u001b[1;33m=\u001b[0m \u001b[0mself\u001b[0m\u001b[1;33m.\u001b[0m\u001b[0mcommand_executor\u001b[0m\u001b[1;33m.\u001b[0m\u001b[0mexecute\u001b[0m\u001b[1;33m(\u001b[0m\u001b[0mdriver_command\u001b[0m\u001b[1;33m,\u001b[0m \u001b[0mparams\u001b[0m\u001b[1;33m)\u001b[0m\u001b[1;33m\u001b[0m\u001b[1;33m\u001b[0m\u001b[0m\n\u001b[0;32m    443\u001b[0m         \u001b[1;32mif\u001b[0m \u001b[0mresponse\u001b[0m\u001b[1;33m:\u001b[0m\u001b[1;33m\u001b[0m\u001b[1;33m\u001b[0m\u001b[0m\n\u001b[1;32m--> 444\u001b[1;33m             \u001b[0mself\u001b[0m\u001b[1;33m.\u001b[0m\u001b[0merror_handler\u001b[0m\u001b[1;33m.\u001b[0m\u001b[0mcheck_response\u001b[0m\u001b[1;33m(\u001b[0m\u001b[0mresponse\u001b[0m\u001b[1;33m)\u001b[0m\u001b[1;33m\u001b[0m\u001b[1;33m\u001b[0m\u001b[0m\n\u001b[0m\u001b[0;32m    445\u001b[0m             \u001b[0mresponse\u001b[0m\u001b[1;33m[\u001b[0m\u001b[1;34m\"value\"\u001b[0m\u001b[1;33m]\u001b[0m \u001b[1;33m=\u001b[0m \u001b[0mself\u001b[0m\u001b[1;33m.\u001b[0m\u001b[0m_unwrap_value\u001b[0m\u001b[1;33m(\u001b[0m\u001b[0mresponse\u001b[0m\u001b[1;33m.\u001b[0m\u001b[0mget\u001b[0m\u001b[1;33m(\u001b[0m\u001b[1;34m\"value\"\u001b[0m\u001b[1;33m,\u001b[0m \u001b[1;32mNone\u001b[0m\u001b[1;33m)\u001b[0m\u001b[1;33m)\u001b[0m\u001b[1;33m\u001b[0m\u001b[1;33m\u001b[0m\u001b[0m\n\u001b[0;32m    446\u001b[0m             \u001b[1;32mreturn\u001b[0m \u001b[0mresponse\u001b[0m\u001b[1;33m\u001b[0m\u001b[1;33m\u001b[0m\u001b[0m\n",
      "\u001b[1;32m~\\anaconda3\\lib\\site-packages\\selenium\\webdriver\\remote\\errorhandler.py\u001b[0m in \u001b[0;36mcheck_response\u001b[1;34m(self, response)\u001b[0m\n\u001b[0;32m    247\u001b[0m                 \u001b[0malert_text\u001b[0m \u001b[1;33m=\u001b[0m \u001b[0mvalue\u001b[0m\u001b[1;33m[\u001b[0m\u001b[1;34m\"alert\"\u001b[0m\u001b[1;33m]\u001b[0m\u001b[1;33m.\u001b[0m\u001b[0mget\u001b[0m\u001b[1;33m(\u001b[0m\u001b[1;34m\"text\"\u001b[0m\u001b[1;33m)\u001b[0m\u001b[1;33m\u001b[0m\u001b[1;33m\u001b[0m\u001b[0m\n\u001b[0;32m    248\u001b[0m             \u001b[1;32mraise\u001b[0m \u001b[0mexception_class\u001b[0m\u001b[1;33m(\u001b[0m\u001b[0mmessage\u001b[0m\u001b[1;33m,\u001b[0m \u001b[0mscreen\u001b[0m\u001b[1;33m,\u001b[0m \u001b[0mstacktrace\u001b[0m\u001b[1;33m,\u001b[0m \u001b[0malert_text\u001b[0m\u001b[1;33m)\u001b[0m  \u001b[1;31m# type: ignore[call-arg]  # mypy is not smart enough here\u001b[0m\u001b[1;33m\u001b[0m\u001b[1;33m\u001b[0m\u001b[0m\n\u001b[1;32m--> 249\u001b[1;33m         \u001b[1;32mraise\u001b[0m \u001b[0mexception_class\u001b[0m\u001b[1;33m(\u001b[0m\u001b[0mmessage\u001b[0m\u001b[1;33m,\u001b[0m \u001b[0mscreen\u001b[0m\u001b[1;33m,\u001b[0m \u001b[0mstacktrace\u001b[0m\u001b[1;33m)\u001b[0m\u001b[1;33m\u001b[0m\u001b[1;33m\u001b[0m\u001b[0m\n\u001b[0m",
      "\u001b[1;31mNoSuchElementException\u001b[0m: Message: no such element: Unable to locate element: {\"method\":\"xpath\",\"selector\":\"/html/body/div[3]/div[1]/div/ul/li[3]/a/div[2]\"}\n  (Session info: chrome=108.0.5359.125)\nStacktrace:\nBacktrace:\n\t(No symbol) [0x0041F243]\n\t(No symbol) [0x003A7FD1]\n\t(No symbol) [0x0029D04D]\n\t(No symbol) [0x002CC0B0]\n\t(No symbol) [0x002CC22B]\n\t(No symbol) [0x002FE612]\n\t(No symbol) [0x002E85D4]\n\t(No symbol) [0x002FC9EB]\n\t(No symbol) [0x002E8386]\n\t(No symbol) [0x002C163C]\n\t(No symbol) [0x002C269D]\n\tGetHandleVerifier [0x006B9A22+2655074]\n\tGetHandleVerifier [0x006ACA24+2601828]\n\tGetHandleVerifier [0x004C8C0A+619850]\n\tGetHandleVerifier [0x004C7830+614768]\n\t(No symbol) [0x003B05FC]\n\t(No symbol) [0x003B5968]\n\t(No symbol) [0x003B5A55]\n\t(No symbol) [0x003C051B]\n\tBaseThreadInitThunk [0x762C6BD9+25]\n\tRtlGetFullPathName_UEx [0x76F58FD2+1218]\n\tRtlGetFullPathName_UEx [0x76F58F9D+1165]\n"
     ]
    }
   ],
   "source": [
    "from selenium import webdriver\n",
    "from selenium.webdriver.common.keys import Keys\n",
    "import pyautogui\n",
    "import pyperclip\n",
    "import time\n",
    "\n",
    "navegador = webdriver.Chrome()\n",
    "\n",
    "navegador.get(\"http://192.168.1.1/\")\n",
    "time.sleep(1)\n",
    "\n",
    "navegador.find_element('xpath', '//*[@id=\"username\"]').send_keys(\"super\")\n",
    "navegador.find_element('xpath', '//*[@id=\"password\"]').send_keys(\"super123\")\n",
    "navegador.find_element('xpath', '//*[@id=\"password\"]').send_keys(Keys.ENTER) # loga\n",
    "time.sleep(1)\n",
    "\n",
    "navegador.find_element('xpath', '//*[@id=\"checking_buttons\"]/a').click() # Pula config rapida\n",
    "time.sleep(1)\n",
    "\n",
    "\n",
    "navegador.find_element('xpath', '/html/body/div[3]/div[1]/div/ul/li[2]/a/div[2]').click()\n",
    "time.sleep(1)\n",
    "navegador.find_element('xpath', '//*[@id=\"wanTypeSelect\"]').click()\n",
    "navegador.find_element('xpath', '//*[@id=\"wanTypeSelect\"]/option[4]').click() # altera pra bridge\n",
    "time.sleep(2)\n",
    "navegador.find_element('xpath', '/html/body/div[2]/div[2]/div/div/div/form[2]/div[3]/button[1]').click() # salva\n",
    "time.sleep(5)\n",
    "\n",
    "navegador.find_element('xpath', '/html/body/div[2]/div[1]/div/ul/li[3]/a/div[2]').click() # Acessa wifi\n",
    "time.sleep(1)\n",
    "navegador.find_element('xpath', '//*[@id=\"htmode_2G\"]').click()\n",
    "navegador.find_element('xpath', '//*[@id=\"htmode_2G\"]/option[1]').click() # largura 20MHz\n",
    "navegador.find_element('xpath', '//*[@id=\"htmode_5G\"]').click()\n",
    "navegador.find_element('xpath', '//*[@id=\"htmode_5G\"]/option[3]').click() # largura 80MHz\n",
    "time.sleep(1)\n",
    "navegador.find_element('xpath', '//*[@id=\"channel_2G\"]').click()\n",
    "navegador.find_element('xpath', '//*[@id=\"channel_2G\"]/option[1]').click() # Canal de rádio 2.4 no auto\n",
    "navegador.find_element('xpath', '//*[@id=\"channel_5G\"]').click()\n",
    "navegador.find_element('xpath', '//*[@id=\"channel_5G\"]/option[1]').click() # Canal de rádio 5G no auto\n",
    "time.sleep(1)\n",
    "navegador.find_element('xpath', '//*[@id=\"form_id\"]/div[7]/span[2]/button[1]/span').click() # Salva\n",
    "time.sleep(5)\n",
    "\n",
    "navegador.find_element('xpath', '/html/body/div[3]/div[1]/div/ul/li[4]/a/div[2]').click() # Acessa mesh\n",
    "time.sleep(2)\n",
    "navegador.find_element('xpath', '//*[@id=\"role_disabled\"]').click() # Desativa mesh\n",
    "navegador.find_element('xpath', '//*[@id=\"MultiAP\"]/div[2]/div[8]/span[2]/button[1]/span').click() # Salva\n",
    "time.sleep(5)\n",
    "\n",
    "navegador.find_element('xpath', '/html/body/div[3]/div[1]/div/ul/li[6]/a/div[2]').click() # Acessa avançado\n",
    "navegador.find_element('xpath', '//*[@id=\"mCSB_1_container\"]/ul/li[2]').click() # Config wifi avançado\n",
    "navegador.find_element('xpath', '//*[@id=\"ShortGi\"]/td[2]/input[2]').click() # Desativa SGI 5G\n",
    "navegador.find_element('xpath', '/html/body/div[2]/div[2]/div/div/form[2]/div[2]/button[1]').click() # Salva\n",
    "time.sleep(5)\n",
    "\n",
    "navegador.find_element('xpath', '/html/body/div[2]/div[2]/div/div/form[2]/div[1]/span[2]/font[1]').click() # Acessa SGI 2.4\n",
    "navegador.find_element('xpath', '//*[@id=\"ShortGi\"]/td[2]/input[2]').click() # Desativa SGI 2.4\n",
    "navegador.find_element('xpath', '/html/body/div[2]/div[2]/div/div/form[2]/div[2]/button[1]').click() # Salva\n",
    "time.sleep(5)\n",
    "\n",
    "navegador.find_element('xpath', '/html/body/div[2]/div[1]/div/ul/li[5]/a/div[1]/img').click() # Acessa LAN\n",
    "navegador.find_element('xpath', '//*[@id=\"ipaddr\"]').click() # Clica no ip LAN\n",
    "pyautogui.hotkey(\"ctrl\", \"a\")\n",
    "pyautogui.press(\"delete\")\n",
    "pyperclip.copy(\"192.168.2.5\")\n",
    "pyautogui.hotkey(\"ctrl\", \"v\")\n",
    "\n",
    "navegador.find_element('xpath', '//*[@id=\"gateway\"]').click() # Clica no gateway\n",
    "pyperclip.copy(\"192.168.2.1\")\n",
    "pyautogui.hotkey(\"ctrl\", \"v\")\n",
    "\n",
    "navegador.find_element('xpath', '//*[@id=\"lan\"]/div[4]/div[3]/span[2]/button[2]/span').click() # Salva e aplica"
   ]
  }
 ],
 "metadata": {
  "kernelspec": {
   "display_name": "Python 3 (ipykernel)",
   "language": "python",
   "name": "python3"
  },
  "language_info": {
   "codemirror_mode": {
    "name": "ipython",
    "version": 3
   },
   "file_extension": ".py",
   "mimetype": "text/x-python",
   "name": "python",
   "nbconvert_exporter": "python",
   "pygments_lexer": "ipython3",
   "version": "3.9.13"
  }
 },
 "nbformat": 4,
 "nbformat_minor": 5
}
